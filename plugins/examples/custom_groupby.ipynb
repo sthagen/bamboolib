{
 "cells": [
  {
   "cell_type": "code",
   "execution_count": null,
   "metadata": {},
   "outputs": [],
   "source": [
    "import pandas as pd\n",
    "import bamboolib as bam\n",
    "bam.enable()"
   ]
  },
  {
   "cell_type": "code",
   "execution_count": null,
   "metadata": {},
   "outputs": [],
   "source": [
    "df_test = pd.DataFrame({'id': [1,2,3,4,5,6],\n",
    "              'ab': ['tet', 'tet', 'tet', 'erm' ,'erm' ,'erm'],\n",
    "              'ab_code': ['AB1', 'AB1', 'AB1', 'AB2', 'AB2', 'AB2', ]})\n",
    "df_test"
   ]
  },
  {
   "cell_type": "code",
   "execution_count": null,
   "metadata": {},
   "outputs": [],
   "source": [
    "df_test.groupby('ab').agg(lambda x: list(x))"
   ]
  },
  {
   "cell_type": "code",
   "execution_count": null,
   "metadata": {},
   "outputs": [],
   "source": [
    "def custom(x):\n",
    "    #display(x)\n",
    "    #display(type(x))\n",
    "    return list(x)"
   ]
  },
  {
   "cell_type": "code",
   "execution_count": null,
   "metadata": {},
   "outputs": [],
   "source": [
    "import ipywidgets as widgets\n",
    "\n",
    "from bamboolib.plugins import (\n",
    "    TransformationPlugin,\n",
    "    DF_OLD,\n",
    "    DF_NEW,\n",
    "    SelectizeWidget,\n",
    "    list_to_string,\n",
    ")\n",
    "\n",
    "\n",
    "class GroupbyCustomFunction(TransformationPlugin):\n",
    "\n",
    "    name = \"Groupby with custom function\"\n",
    "\n",
    "    def __init__(self, *args, **kwargs):\n",
    "        super().__init__(*args, **kwargs)\n",
    "\n",
    "        self.groupby_columns = SelectizeWidget(\n",
    "            options=list(self.get_df().columns), placeholder=\"Choose column(s)\"\n",
    "        )\n",
    "\n",
    "        self.custom_function_text = widgets.Text(\n",
    "            placeholder=\"lambda expression or function name\", value=\"lambda x: min(x)\"\n",
    "        )\n",
    "\n",
    "    def render(self):\n",
    "        self.set_title(\"Groupy with custom function\")\n",
    "        self.set_content(\n",
    "            widgets.HTML(\"Groupby:\"),\n",
    "            self.groupby_columns,\n",
    "            self.spacer,\n",
    "            widgets.HTML(\"Aggregation:\"),\n",
    "            self.custom_function_text,\n",
    "            self.rename_df_group,\n",
    "            self.code_preview_group,\n",
    "        )\n",
    "\n",
    "    def get_code(self):\n",
    "        columns_list = list_to_string(self.groupby_columns.value, quoted=True)\n",
    "        return f\"{DF_NEW} = {DF_OLD}.groupby([{columns_list}]).agg({self.custom_function_text.value})\"\n"
   ]
  },
  {
   "cell_type": "code",
   "execution_count": null,
   "metadata": {},
   "outputs": [],
   "source": [
    "df_test"
   ]
  },
  {
   "cell_type": "code",
   "execution_count": null,
   "metadata": {},
   "outputs": [],
   "source": []
  }
 ],
 "metadata": {
  "kernelspec": {
   "display_name": "Python 3",
   "language": "python",
   "name": "python3"
  },
  "language_info": {
   "codemirror_mode": {
    "name": "ipython",
    "version": 3
   },
   "file_extension": ".py",
   "mimetype": "text/x-python",
   "name": "python",
   "nbconvert_exporter": "python",
   "pygments_lexer": "ipython3",
   "version": "3.7.4"
  }
 },
 "nbformat": 4,
 "nbformat_minor": 2
}
