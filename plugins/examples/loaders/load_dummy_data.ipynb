{
 "cells": [
  {
   "cell_type": "markdown",
   "metadata": {},
   "source": [
    "# Demo for loading dummy data\n",
    "- This is the actual code that is also used inside bamboolib. You find the UI when you type \"bam\" in a cell and execute the cell\n",
    "- You can use this template to write your own data loader from your custom sources"
   ]
  },
  {
   "cell_type": "code",
   "execution_count": null,
   "metadata": {},
   "outputs": [],
   "source": [
    "import bamboolib as bam"
   ]
  },
  {
   "cell_type": "code",
   "execution_count": null,
   "metadata": {},
   "outputs": [],
   "source": [
    "bam"
   ]
  },
  {
   "cell_type": "markdown",
   "metadata": {},
   "source": [
    "If you adjust the code of the DummyData class below, you will also adjust the default behavior of bamboolib because the LoaderPlugin overrides the previous plugin with the same name"
   ]
  },
  {
   "cell_type": "code",
   "execution_count": null,
   "metadata": {},
   "outputs": [],
   "source": [
    "import ipywidgets as widgets\n",
    "from bamboolib.plugins import LoaderPlugin, DF_NEW, Singleselect\n",
    "\n",
    "class DummyData(LoaderPlugin):\n",
    "\n",
    "    name = \"Load dummy data\"\n",
    "    new_df_name_placeholder = \"df\"\n",
    "\n",
    "    def __init__(self, **kwargs):\n",
    "        super().__init__(**kwargs)\n",
    "        data_options = [\n",
    "            {\n",
    "                \"label\": \"Titanic dataset\",\n",
    "                \"value\": \"pd.read_csv(bam.titanic_csv)\",\n",
    "                \"description\": \"Each row is a passenger on the Titanic - often used for classifications\",\n",
    "            },\n",
    "            {\n",
    "                \"label\": \"Sales dataset\",\n",
    "                \"value\": \"pd.read_csv(bam.sales_csv)\",\n",
    "                \"description\": \"Timeseries dataset - each row is a monthly sales figure for various products\",\n",
    "            },\n",
    "        ]\n",
    "        self.dataset = Singleselect(\n",
    "            options=data_options, value=data_options[0][\"value\"], width=\"xl\"\n",
    "        )\n",
    "\n",
    "    def render(self):\n",
    "        self.set_title(\"Load dummy data\")\n",
    "        self.set_content(\n",
    "            widgets.HTML(\"Load a dummy data set for testing bamboolib\"),\n",
    "            self.dataset,\n",
    "            self.new_df_name_group,\n",
    "            self.execute_button,\n",
    "        )\n",
    "\n",
    "    def get_code(self):\n",
    "        return f\"\"\"\n",
    "                    import pandas as pd\n",
    "                    {DF_NEW} = {self.dataset.value}\n",
    "                \"\"\""
   ]
  },
  {
   "cell_type": "markdown",
   "metadata": {},
   "source": [
    "When you adjusted the class, you can also debug and view the plugin UI via executing `DummyData()`. This saves you the time of navigating to the plugin in the UI in order to view your changes."
   ]
  },
  {
   "cell_type": "code",
   "execution_count": null,
   "metadata": {},
   "outputs": [],
   "source": [
    "DummyData()"
   ]
  },
  {
   "cell_type": "code",
   "execution_count": null,
   "metadata": {},
   "outputs": [],
   "source": []
  }
 ],
 "metadata": {
  "jupytext": {
   "cell_metadata_filter": "-all",
   "notebook_metadata_filter": "-all",
   "text_representation": {
    "extension": ".py",
    "format_name": "light"
   }
  },
  "kernelspec": {
   "display_name": "Python 3.7.7 64-bit",
   "language": "python",
   "name": "python37764bitbbca2793e9b54c6393603e4e81e7f13c"
  },
  "language_info": {
   "codemirror_mode": {
    "name": "ipython",
    "version": 3
   },
   "file_extension": ".py",
   "mimetype": "text/x-python",
   "name": "python",
   "nbconvert_exporter": "python",
   "pygments_lexer": "ipython3",
   "version": "3.7.7"
  }
 },
 "nbformat": 4,
 "nbformat_minor": 2
}
