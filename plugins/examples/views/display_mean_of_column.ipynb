{
 "cells": [
  {
   "cell_type": "markdown",
   "metadata": {},
   "source": [
    "# Viewplugin demo - computing and displaying the mean of a column\n",
    "This little demo shows the basics of how to write a Viewplugin.  \n",
    "\n",
    "**Goal of the plugin**   \n",
    "For a user specified column, display its mean. If the mean cannot be computed (e.g. because it's a string column), show the user a message.\n",
    "\n",
    "**Need help?**  \n",
    "If you have any questions or need help, please <a href=\"mailto:support+viewplugin_demo_mean_of_column@8080labs.com\">reach out</a>."
   ]
  },
  {
   "cell_type": "markdown",
   "metadata": {},
   "source": [
    "**Your turn**   \n",
    "Run the code below. After that, you can call the plugin in two ways:\n",
    "1. **For the end user:** open bamboolib by calling `df_titanic` and search for the plugin by its name (or description)\n",
    "2. **During development:** call the plugin directly with `ComputeMeanOfColumn(df=df_titanic)`"
   ]
  },
  {
   "cell_type": "code",
   "execution_count": null,
   "metadata": {},
   "outputs": [],
   "source": [
    "import bamboolib as bam\n",
    "import pandas as pd\n",
    "\n",
    "# For this demo, we work with the titanic data set that comes pre-installed with bamboolib\n",
    "df_titanic = pd.read_csv(bam.titanic_csv)\n",
    "\n",
    "import ipywidgets as widgets  # We use that to display e.g. HTML\n",
    "\n",
    "from bamboolib.plugins import ViewPlugin, Singleselect, Button\n",
    "\n",
    "\n",
    "class ComputeMeanOfColumn(ViewPlugin):\n",
    "\n",
    "    # You will find the plugin via it's name and/or description.\n",
    "    name = \"Compute mean of a column\"\n",
    "    description = \"Compute the mean of a selected column\"\n",
    "\n",
    "    def render(self):\n",
    "        column_names = list(self.get_df().columns)\n",
    "\n",
    "        self.column_input = Singleselect(\n",
    "            options=column_names,\n",
    "            placeholder=\"Choose column\",\n",
    "            focus_after_init=True,\n",
    "        )\n",
    "        \n",
    "        self.execute_button = Button(\n",
    "            description=\"Compute mean\", \n",
    "            style=\"primary\",  # Make the button green.\n",
    "            # Whenever user clicks on self.execute_button, we call update_output.\n",
    "            # For more info, type `help(Button)`\n",
    "            on_click=self.update_output  \n",
    "        )\n",
    "        \n",
    "        self.output = widgets.VBox([])\n",
    "        \n",
    "        self.set_title(\"Compute mean of column\")\n",
    "        self.set_content(\n",
    "            widgets.HTML(\"Column\"),\n",
    "            self.column_input,\n",
    "            self.execute_button,\n",
    "            self.output,\n",
    "        )\n",
    "    \n",
    "    def update_output(self, button):  # button is a required argument (convention by ipywidgets).\n",
    "        selected_column_name = self.column_input.value\n",
    "        selected_series = self.get_df()[selected_column_name]\n",
    "        \n",
    "        try:\n",
    "            result = selected_series.mean()\n",
    "            message = f\"Mean of <b>{selected_column_name}</b>: {result:.2f}\"\n",
    "        except:\n",
    "            # Fails e.g. if column is not numeric.\n",
    "            message = f\"Couldn't compute the mean for column <b>{selected_column_name}</b>\"\n",
    "            \n",
    "        # This re-renders self.output.\n",
    "        self.output.children = [widgets.HTML(message)]  # Need to use ipywidgets."
   ]
  },
  {
   "cell_type": "markdown",
   "metadata": {},
   "source": [
    "When you adjusted the class, you can also debug and view the plugin UI via executing `ComputeMeanOfColumn(df=df_titanic)`. This saves you the time of navigating to the plugin in the UI in order to view your changes."
   ]
  },
  {
   "cell_type": "code",
   "execution_count": null,
   "metadata": {
    "scrolled": true
   },
   "outputs": [],
   "source": [
    "ComputeMeanOfColumn(df=df_titanic)"
   ]
  },
  {
   "cell_type": "markdown",
   "metadata": {},
   "source": [
    "Your users can find the plugin by searching for it's name (or description) inside of bamboolib."
   ]
  },
  {
   "cell_type": "code",
   "execution_count": null,
   "metadata": {},
   "outputs": [],
   "source": [
    "# Run cell and search for \"mean\" in the bamboolib search bar.\n",
    "df_titanic"
   ]
  },
  {
   "cell_type": "markdown",
   "metadata": {},
   "source": [
    "**Do you have any questions or feedback?**  \n",
    "We're happy to hear it! Please <a href=\"mailto:bamboolib+viewplugin_demo_mean_of_column@8080labs.com\">shoot us a message</a>."
   ]
  }
 ],
 "metadata": {
  "jupytext": {
   "cell_metadata_filter": "-all",
   "notebook_metadata_filter": "-all",
   "text_representation": {
    "extension": ".py",
    "format_name": "percent"
   }
  },
  "kernelspec": {
   "display_name": "Python 3",
   "language": "python",
   "name": "python3"
  },
  "language_info": {
   "codemirror_mode": {
    "name": "ipython",
    "version": 3
   },
   "file_extension": ".py",
   "mimetype": "text/x-python",
   "name": "python",
   "nbconvert_exporter": "python",
   "pygments_lexer": "ipython3",
   "version": "3.7.3"
  }
 },
 "nbformat": 4,
 "nbformat_minor": 4
}
