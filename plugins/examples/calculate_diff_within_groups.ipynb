{
 "cells": [
  {
   "cell_type": "markdown",
   "metadata": {},
   "source": [
    "# Calculating the diff within groups via a TransformationPlugin\n",
    "\n",
    "inspired by Sailu and the following stackoverflow post:\n",
    "- https://stackoverflow.com/questions/20648346/computing-diffs-within-groups-of-a-dataframe\n",
    "\n",
    "\n",
    "__Goal:__ For each company, calculate the revenue diff to the previous month/row"
   ]
  },
  {
   "cell_type": "code",
   "execution_count": null,
   "metadata": {},
   "outputs": [],
   "source": [
    "import pandas as pd\n",
    "import numpy as np"
   ]
  },
  {
   "cell_type": "code",
   "execution_count": null,
   "metadata": {},
   "outputs": [],
   "source": [
    "df = pd.DataFrame()"
   ]
  },
  {
   "cell_type": "code",
   "execution_count": null,
   "metadata": {},
   "outputs": [],
   "source": [
    "df[\"company\"] = [\"A\", \"A\", \"A\", \"A\", \"B\", \"B\", \"B\", \"B\", \"C\", \"C\", \"C\", \"C\"]"
   ]
  },
  {
   "cell_type": "code",
   "execution_count": null,
   "metadata": {},
   "outputs": [],
   "source": [
    "df[\"month\"] = [\n",
    "    \"Jan-19\",\n",
    "    \"Feb-19\",\n",
    "    \"Mar-19\",\n",
    "    \"Apr-19\",\n",
    "    \"Jan-19\",\n",
    "    \"Feb-19\",\n",
    "    \"Mar-19\",\n",
    "    \"Apr-19\",\n",
    "    \"Jan-19\",\n",
    "    \"Feb-19\",\n",
    "    \"Mar-19\",\n",
    "    \"Apr-19\",\n",
    "]"
   ]
  },
  {
   "cell_type": "code",
   "execution_count": null,
   "metadata": {},
   "outputs": [],
   "source": [
    "df[\"revenue\"] = [100, 200, 120, 220, 80, 75, 97, 123, 340, 98, 23, 124]"
   ]
  },
  {
   "cell_type": "code",
   "execution_count": null,
   "metadata": {},
   "outputs": [],
   "source": [
    "# # solution:\n",
    "# df['diff'] = df.groupby(['company'])['revenue'].transform(lambda series: series.diff())"
   ]
  },
  {
   "cell_type": "code",
   "execution_count": null,
   "metadata": {},
   "outputs": [],
   "source": [
    "import ipywidgets as widgets\n",
    "\n",
    "from bamboolib.plugins import (\n",
    "    TransformationPlugin,\n",
    "    DF_OLD,\n",
    "    Multiselect,\n",
    "    Singleselect,\n",
    ")\n",
    "\n",
    "\n",
    "class DiffWithinGroups(TransformationPlugin):\n",
    "\n",
    "    name = \"Diff within groups\"\n",
    "\n",
    "    def __init__(self, *args, **kwargs):\n",
    "        super().__init__(*args, **kwargs)\n",
    "\n",
    "        columns = list(self.get_df().columns)\n",
    "\n",
    "        self.groupby_columns = Multiselect(\n",
    "            options=columns, placeholder=\"Choose groupby column(s)\", focus_after_init=True\n",
    "        )\n",
    "\n",
    "        self.value_column = Singleselect(\n",
    "            options=columns, placeholder=\"Choose value column\"\n",
    "        )\n",
    "\n",
    "        self.new_column_name = widgets.Text(\n",
    "            value=\"diff\", placeholder=\"Name of diff column\"\n",
    "        )\n",
    "\n",
    "    def render(self):\n",
    "        self.set_title(\"Diff within groups\")\n",
    "        self.set_content(\n",
    "            widgets.HTML(\"Groupby\"),\n",
    "            self.groupby_columns,\n",
    "            widgets.HTML(\"and calculate diff of\"),\n",
    "            self.value_column,\n",
    "            widgets.HTML(\"Name of new column\"),\n",
    "            self.new_column_name,\n",
    "        )\n",
    "\n",
    "    def get_code(self):\n",
    "        return f\"{DF_OLD}['{self.new_column_name.value}'] = {DF_OLD}.groupby({self.groupby_columns.value})['{self.value_column.value}'].transform(lambda series: series.diff())\""
   ]
  },
  {
   "cell_type": "code",
   "execution_count": null,
   "metadata": {},
   "outputs": [],
   "source": [
    "df"
   ]
  },
  {
   "cell_type": "code",
   "execution_count": null,
   "metadata": {},
   "outputs": [],
   "source": []
  }
 ],
 "metadata": {
  "jupytext": {
   "cell_metadata_filter": "-all",
   "notebook_metadata_filter": "-all"
  },
  "kernelspec": {
   "display_name": "Python 3",
   "language": "python",
   "name": "python3"
  },
  "language_info": {
   "codemirror_mode": {
    "name": "ipython",
    "version": 3
   },
   "file_extension": ".py",
   "mimetype": "text/x-python",
   "name": "python",
   "nbconvert_exporter": "python",
   "pygments_lexer": "ipython3",
   "version": "3.7.7"
  }
 },
 "nbformat": 4,
 "nbformat_minor": 2
}
