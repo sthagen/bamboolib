{
 "cells": [
  {
   "cell_type": "markdown",
   "metadata": {},
   "source": [
    "# Using custom groupby functions via a TransformationPlugin\n",
    "\n",
    "inspired by Harneet, Will and Zach\n",
    "\n",
    "__Goal:__ Groupby a column and execute either a lambda function or a custom function"
   ]
  },
  {
   "cell_type": "code",
   "execution_count": null,
   "metadata": {},
   "outputs": [],
   "source": [
    "import pandas as pd\n",
    "import bamboolib as bam"
   ]
  },
  {
   "cell_type": "code",
   "execution_count": null,
   "metadata": {},
   "outputs": [],
   "source": [
    "df = pd.DataFrame()"
   ]
  },
  {
   "cell_type": "code",
   "execution_count": null,
   "metadata": {},
   "outputs": [],
   "source": [
    "df[\"group\"] = [\"A\", \"A\", \"A\", \"B\", \"B\", \"B\"]"
   ]
  },
  {
   "cell_type": "code",
   "execution_count": null,
   "metadata": {},
   "outputs": [],
   "source": [
    "df[\"item\"] = [\"x\", \"y\", \"z\", \"x\", \"y\", \"z\"]"
   ]
  },
  {
   "cell_type": "code",
   "execution_count": null,
   "metadata": {},
   "outputs": [],
   "source": [
    "df[\"number\"] = [1, 2, 3, 4, 5, 6]"
   ]
  },
  {
   "cell_type": "code",
   "execution_count": null,
   "metadata": {},
   "outputs": [],
   "source": [
    "def my_custom_function(series):\n",
    "    return min(series)"
   ]
  },
  {
   "cell_type": "code",
   "execution_count": null,
   "metadata": {},
   "outputs": [],
   "source": [
    "# # Solution 1:\n",
    "# df.groupby('group').agg(lambda x: min(x))"
   ]
  },
  {
   "cell_type": "code",
   "execution_count": null,
   "metadata": {},
   "outputs": [],
   "source": [
    "# # Solution 2:\n",
    "# df.groupby('group').agg(my_custom_function)"
   ]
  },
  {
   "cell_type": "code",
   "execution_count": null,
   "metadata": {},
   "outputs": [],
   "source": [
    "import ipywidgets as widgets\n",
    "\n",
    "from bamboolib.plugins import TransformationPlugin, DF_OLD, DF_NEW, Multiselect, Text\n",
    "\n",
    "\n",
    "class GroupbyCustomFunction(TransformationPlugin):\n",
    "\n",
    "    name = \"Groupby with custom function\"\n",
    "    description = \"Apply a custom function to each group in one or multiple columns\"\n",
    "\n",
    "    def __init__(self, *args, **kwargs):\n",
    "        super().__init__(*args, **kwargs)\n",
    "\n",
    "        columns = list(self.get_df().columns)\n",
    "\n",
    "        self.groupby_columns = Multiselect(\n",
    "            options=columns, placeholder=\"Choose column(s)\"\n",
    "        )\n",
    "\n",
    "        self.custom_function_text = Text(\n",
    "            value=\"lambda x: min(x)\", placeholder=\"lambda expression or function name\"\n",
    "        )\n",
    "\n",
    "    def render(self):\n",
    "        self.set_title(\"Groupy with custom function\")\n",
    "        self.set_content(\n",
    "            widgets.HTML(\"Groupby\"),\n",
    "            self.groupby_columns,\n",
    "            widgets.HTML(\"and apply aggregation\"),\n",
    "            self.custom_function_text,\n",
    "            self.rename_df_group,\n",
    "            self.code_preview_group,\n",
    "        )\n",
    "\n",
    "    def get_code(self):\n",
    "        return f\"{DF_NEW} = {DF_OLD}.groupby({self.groupby_columns.value}).agg({self.custom_function_text.value})\""
   ]
  },
  {
   "cell_type": "code",
   "execution_count": null,
   "metadata": {},
   "outputs": [],
   "source": [
    "df"
   ]
  },
  {
   "cell_type": "code",
   "execution_count": null,
   "metadata": {},
   "outputs": [],
   "source": []
  }
 ],
 "metadata": {
  "jupytext": {
   "cell_metadata_filter": "-all",
   "notebook_metadata_filter": "-all"
  },
  "kernelspec": {
   "display_name": "Python 3",
   "language": "python",
   "name": "python3"
  },
  "language_info": {
   "codemirror_mode": {
    "name": "ipython",
    "version": 3
   },
   "file_extension": ".py",
   "mimetype": "text/x-python",
   "name": "python",
   "nbconvert_exporter": "python",
   "pygments_lexer": "ipython3",
   "version": "3.7.3"
  }
 },
 "nbformat": 4,
 "nbformat_minor": 4
}
