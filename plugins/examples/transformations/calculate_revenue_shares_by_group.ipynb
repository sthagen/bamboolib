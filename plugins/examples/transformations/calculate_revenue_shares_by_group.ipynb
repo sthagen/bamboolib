{
 "cells": [
  {
   "cell_type": "markdown",
   "metadata": {},
   "source": [
    "# Calculating the revenue share of regions via a TransformationPlugin\n",
    "\n",
    "__Goal:__ For each **region**, we want to compute the revenue share (i.e. the percentage of our global revenue coming from that region)"
   ]
  },
  {
   "cell_type": "code",
   "execution_count": null,
   "metadata": {},
   "outputs": [],
   "source": [
    "import pandas as pd\n",
    "import bamboolib as bam"
   ]
  },
  {
   "cell_type": "code",
   "execution_count": null,
   "metadata": {},
   "outputs": [],
   "source": [
    "sales_df = bam.get_sales_df()"
   ]
  },
  {
   "cell_type": "code",
   "execution_count": null,
   "metadata": {},
   "outputs": [],
   "source": [
    "# Custom function used in Plugin\n",
    "def compute_share(df, groupby_column, value_column):\n",
    "    shares = df.groupby(groupby_column).agg({value_column: \"sum\"}).reset_index()\n",
    "    shares[value_column + \"_share\"] = shares[value_column] / shares[value_column].sum() * 100\n",
    "    shares = shares.drop(columns=[value_column])\n",
    "    return shares"
   ]
  },
  {
   "cell_type": "code",
   "execution_count": null,
   "metadata": {},
   "outputs": [],
   "source": [
    "# Solution:\n",
    "# revenue_shares_df = compute_share(sales_df, 'region', 'total_revenue')"
   ]
  },
  {
   "cell_type": "code",
   "execution_count": null,
   "metadata": {},
   "outputs": [],
   "source": [
    "import ipywidgets as widgets\n",
    "\n",
    "from bamboolib.plugins import TransformationPlugin, DF_OLD, DF_NEW, Singleselect\n",
    "\n",
    "\n",
    "class TotalRevenueShare(TransformationPlugin):\n",
    "\n",
    "    name = \"Compute total revenue share\"\n",
    "    description = \"This is a custom plugin that computes the total revenue share\"\n",
    "\n",
    "    def __init__(self, *args, **kwargs):\n",
    "        super().__init__(*args, **kwargs)\n",
    "\n",
    "        self.groupby_columns = Singleselect(\n",
    "            options=list(self.get_df().columns), \n",
    "            placeholder=\"Choose column\",\n",
    "            focus_after_init=True\n",
    "        )\n",
    "\n",
    "    def render(self):\n",
    "        self.set_title(\"Total revenue share\")\n",
    "        self.set_content(\n",
    "            widgets.HTML(\"Compute the <b>total revenue share</b> for each value in\"),\n",
    "            self.groupby_columns,\n",
    "            self.rename_df_group,\n",
    "        )\n",
    "\n",
    "    def get_code(self):\n",
    "        return f\"{DF_NEW} = compute_share({DF_OLD}, '{self.groupby_columns.value}', 'total_revenue')\""
   ]
  },
  {
   "cell_type": "markdown",
   "metadata": {},
   "source": [
    "**Hint:** You can find the plugin by searching \"total revenue\""
   ]
  },
  {
   "cell_type": "code",
   "execution_count": null,
   "metadata": {},
   "outputs": [],
   "source": [
    "sales_df"
   ]
  },
  {
   "cell_type": "markdown",
   "metadata": {},
   "source": [
    "**Inspiration:** Can you extend the plugin so that the user can choose which column she wants to compute the shares from?"
   ]
  },
  {
   "cell_type": "code",
   "execution_count": null,
   "metadata": {},
   "outputs": [],
   "source": []
  }
 ],
 "metadata": {
  "jupytext": {
   "cell_metadata_filter": "-all",
   "notebook_metadata_filter": "-all"
  },
  "kernelspec": {
   "display_name": "Python 3",
   "language": "python",
   "name": "python3"
  },
  "language_info": {
   "codemirror_mode": {
    "name": "ipython",
    "version": 3
   },
   "file_extension": ".py",
   "mimetype": "text/x-python",
   "name": "python",
   "nbconvert_exporter": "python",
   "pygments_lexer": "ipython3",
   "version": "3.7.3"
  }
 },
 "nbformat": 4,
 "nbformat_minor": 4
}