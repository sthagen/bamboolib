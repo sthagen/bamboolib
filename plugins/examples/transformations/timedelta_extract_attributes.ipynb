{
 "cells": [
  {
   "cell_type": "markdown",
   "metadata": {},
   "source": [
    "# Extracting attributes from timedelta columns via a TransformationPlugin\n",
    "\n",
    "inspired by Sailu and the following stackoverflow question:\n",
    "- https://stackoverflow.com/questions/38355816/pandas-add-timedelta-column-to-datetime-column-vectorized\n",
    "\n",
    "__Goal:__ extract the number of weeks as float based on the timedelta column"
   ]
  },
  {
   "cell_type": "code",
   "execution_count": null,
   "metadata": {},
   "outputs": [],
   "source": [
    "import pandas as pd\n",
    "import numpy as np\n",
    "import bamboolib as bam"
   ]
  },
  {
   "cell_type": "code",
   "execution_count": null,
   "metadata": {},
   "outputs": [],
   "source": [
    "df = pd.DataFrame()"
   ]
  },
  {
   "cell_type": "code",
   "execution_count": null,
   "metadata": {},
   "outputs": [],
   "source": [
    "df[\"date\"] = [\"2016-01-10\", \"2016-05-11\", \"2016-02-23\", \"2015-12-08\"]\n",
    "df[\"date\"] = pd.to_datetime(df[\"date\"])"
   ]
  },
  {
   "cell_type": "code",
   "execution_count": null,
   "metadata": {},
   "outputs": [],
   "source": [
    "df[\"days\"] = [28, 7, 15, 30]\n",
    "df[\"days\"] = pd.to_timedelta(df[\"days\"], \"d\")"
   ]
  },
  {
   "cell_type": "code",
   "execution_count": null,
   "metadata": {},
   "outputs": [],
   "source": [
    "# # solution:\n",
    "# df['weeks'] = df['days'] / np.timedelta64(1, 'W')"
   ]
  },
  {
   "cell_type": "code",
   "execution_count": null,
   "metadata": {},
   "outputs": [],
   "source": [
    "import ipywidgets as widgets\n",
    "\n",
    "from bamboolib.plugins import TransformationPlugin, DF_OLD, Singleselect, Text\n",
    "\n",
    "\n",
    "class TimedeltaExtractAttribute(TransformationPlugin):\n",
    "\n",
    "    name = \"Timedelta: extract attribute\"\n",
    "\n",
    "    def __init__(self, *args, **kwargs):\n",
    "        super().__init__(*args, **kwargs)\n",
    "\n",
    "        self.column = Singleselect(\n",
    "            options=list(self.get_df().columns), focus_after_init=True\n",
    "        )\n",
    "\n",
    "        # based on https://docs.scipy.org/doc/numpy/reference/arrays.datetime.html#datetime-units\n",
    "        self.attribute = Singleselect(\n",
    "            options=[\n",
    "                (\"years\", \"Y\"),\n",
    "                (\"months\", \"M\"),\n",
    "                (\"weeks\", \"W\"),\n",
    "                (\"days\", \"D\"),\n",
    "                (\"hours\", \"h\"),\n",
    "                (\"minutes\", \"m\"),\n",
    "                (\"seconds\", \"s\"),\n",
    "            ],\n",
    "            value=\"D\",\n",
    "        )\n",
    "        self.new_column_name = Text(\n",
    "            description=\"New column name\", width=\"lg\", execute=self\n",
    "        )\n",
    "\n",
    "    def render(self):\n",
    "        self.set_title(\"Extract attribute\")\n",
    "        self.set_content(\n",
    "            widgets.HTML(\"Convert\"),\n",
    "            self.column,\n",
    "            widgets.HTML(\"to\"),\n",
    "            self.attribute,\n",
    "            self.new_column_name,\n",
    "        )\n",
    "\n",
    "    def get_description(self):\n",
    "        return f\"Extract timedelta attribute {self.attribute.label} from '{self.column.value}'\"\n",
    "\n",
    "    def get_code(self):\n",
    "        return f\"{DF_OLD}['{self.new_column_name.value}'] = {DF_OLD}['{self.column.value}'] / np.timedelta64(1, '{self.attribute.value}')\""
   ]
  },
  {
   "cell_type": "markdown",
   "metadata": {},
   "source": [
    "__Hint:__ The plugin is shown in bamboolib when searching for \"Timedelta: extract attribute\""
   ]
  },
  {
   "cell_type": "code",
   "execution_count": null,
   "metadata": {},
   "outputs": [],
   "source": [
    "df"
   ]
  },
  {
   "cell_type": "code",
   "execution_count": null,
   "metadata": {},
   "outputs": [],
   "source": []
  }
 ],
 "metadata": {
  "jupytext": {
   "cell_metadata_filter": "-all",
   "notebook_metadata_filter": "-all"
  },
  "kernelspec": {
   "display_name": "Python 3",
   "language": "python",
   "name": "python3"
  },
  "language_info": {
   "codemirror_mode": {
    "name": "ipython",
    "version": 3
   },
   "file_extension": ".py",
   "mimetype": "text/x-python",
   "name": "python",
   "nbconvert_exporter": "python",
   "pygments_lexer": "ipython3",
   "version": "3.7.3"
  }
 },
 "nbformat": 4,
 "nbformat_minor": 4
}
