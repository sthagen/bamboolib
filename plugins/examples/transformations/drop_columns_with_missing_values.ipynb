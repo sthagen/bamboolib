{
 "cells": [
  {
   "cell_type": "markdown",
   "metadata": {},
   "source": [
    "# Drop columns that only contain missing values"
   ]
  },
  {
   "cell_type": "code",
   "execution_count": null,
   "metadata": {},
   "outputs": [],
   "source": [
    "import pandas as pd\n",
    "import bamboolib as bam\n",
    "\n",
    "titanic_df = bam.get_titanic_df()\n",
    "titanic_df[\"na_column\"] = pd.NA"
   ]
  },
  {
   "cell_type": "code",
   "execution_count": null,
   "metadata": {},
   "outputs": [],
   "source": [
    "# Solution:\n",
    "# titanic_df_cleaned = titanic_df.dropna(how=\"all\", axis=1)"
   ]
  },
  {
   "cell_type": "code",
   "execution_count": null,
   "metadata": {
    "lines_to_next_cell": 1
   },
   "outputs": [],
   "source": [
    "from bamboolib.plugins import TransformationPlugin, DF_OLD, DF_NEW, Singleselect\n",
    "import ipywidgets as widgets\n",
    "\n",
    "\n",
    "DROP_NA_COLUMNS_OPTIONS = (\n",
    "    (\"only missing values\", \"all\"),\n",
    "    (\"at least 1 missing value\", \"any\")\n",
    ")\n",
    "\n",
    "\n",
    "class DropColumnsWithMissingValues(TransformationPlugin):\n",
    "\n",
    "    name = \"Drop columns with missing values\"\n",
    "    description = \"Drop columns that contain at least one missing value or only missing values\"\n",
    "\n",
    "    def __init__(self, *args, **kwargs):\n",
    "        super().__init__(*args, **kwargs)\n",
    "\n",
    "        self.drop_na_option = Singleselect(\n",
    "            options=DROP_NA_COLUMNS_OPTIONS,\n",
    "            placeholder=\"Choose ...\",\n",
    "            focus_after_init=True,\n",
    "            set_soft_value=True\n",
    "        )\n",
    "\n",
    "    def render(self):\n",
    "        self.set_title(\"Drop columns with missing values\")\n",
    "        self.set_content(\n",
    "            widgets.HTML(\"Drop all columns that contain\"),\n",
    "            self.drop_na_option,\n",
    "            self.rename_df_group,\n",
    "        )\n",
    "\n",
    "    def get_code(self):\n",
    "        return f\"{DF_NEW} = {DF_OLD}.dropna(how='{self.drop_na_option.value}', axis=1)\""
   ]
  },
  {
   "cell_type": "markdown",
   "metadata": {},
   "source": [
    "**Hint:** You can find the plugin by searching \"drop columns\". "
   ]
  },
  {
   "cell_type": "code",
   "execution_count": null,
   "metadata": {},
   "outputs": [],
   "source": [
    "titanic_df"
   ]
  },
  {
   "cell_type": "code",
   "execution_count": null,
   "metadata": {},
   "outputs": [],
   "source": []
  }
 ],
 "metadata": {
  "jupytext": {
   "cell_metadata_filter": "-all",
   "notebook_metadata_filter": "-all",
   "text_representation": {
    "extension": ".py",
    "format_name": "percent"
   }
  },
  "kernelspec": {
   "display_name": "Python 3",
   "language": "python",
   "name": "python3"
  },
  "language_info": {
   "codemirror_mode": {
    "name": "ipython",
    "version": 3
   },
   "file_extension": ".py",
   "mimetype": "text/x-python",
   "name": "python",
   "nbconvert_exporter": "python",
   "pygments_lexer": "ipython3",
   "version": "3.7.3"
  }
 },
 "nbformat": 4,
 "nbformat_minor": 4
}
